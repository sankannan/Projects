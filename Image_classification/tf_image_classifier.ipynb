{
 "cells": [
  {
   "cell_type": "markdown",
   "id": "033f4a85",
   "metadata": {},
   "source": [
    "## Image Classifier using tensorflow \n"
   ]
  },
  {
   "cell_type": "code",
   "execution_count": 38,
   "id": "614b8eec",
   "metadata": {},
   "outputs": [
    {
     "name": "stdout",
     "output_type": "stream",
     "text": [
      "Requirement already satisfied: matplotlib in /home/san/miniconda3/envs/gpu2/lib/python3.9/site-packages (3.4.3)\n",
      "Requirement already satisfied: python-dateutil>=2.7 in /home/san/miniconda3/envs/gpu2/lib/python3.9/site-packages (from matplotlib) (2.8.1)\n",
      "Requirement already satisfied: pyparsing>=2.2.1 in /home/san/miniconda3/envs/gpu2/lib/python3.9/site-packages (from matplotlib) (2.4.7)\n",
      "Requirement already satisfied: kiwisolver>=1.0.1 in /home/san/miniconda3/envs/gpu2/lib/python3.9/site-packages (from matplotlib) (1.3.2)\n",
      "Requirement already satisfied: pillow>=6.2.0 in /home/san/miniconda3/envs/gpu2/lib/python3.9/site-packages (from matplotlib) (8.3.1)\n",
      "Requirement already satisfied: numpy>=1.16 in /home/san/miniconda3/envs/gpu2/lib/python3.9/site-packages (from matplotlib) (1.19.5)\n",
      "Requirement already satisfied: cycler>=0.10 in /home/san/miniconda3/envs/gpu2/lib/python3.9/site-packages (from matplotlib) (0.10.0)\n",
      "Requirement already satisfied: six in /home/san/miniconda3/envs/gpu2/lib/python3.9/site-packages (from cycler>=0.10->matplotlib) (1.15.0)\n",
      "Requirement already satisfied: tensorflow in /home/san/miniconda3/envs/gpu2/lib/python3.9/site-packages (2.6.0)\n",
      "Requirement already satisfied: typing-extensions~=3.7.4 in /home/san/miniconda3/envs/gpu2/lib/python3.9/site-packages (from tensorflow) (3.7.4.3)\n",
      "Requirement already satisfied: google-pasta~=0.2 in /home/san/miniconda3/envs/gpu2/lib/python3.9/site-packages (from tensorflow) (0.2.0)\n",
      "Requirement already satisfied: tensorflow-estimator~=2.6 in /home/san/miniconda3/envs/gpu2/lib/python3.9/site-packages (from tensorflow) (2.6.0)\n",
      "Requirement already satisfied: wheel~=0.35 in /home/san/miniconda3/envs/gpu2/lib/python3.9/site-packages (from tensorflow) (0.37.0)\n",
      "Requirement already satisfied: protobuf>=3.9.2 in /home/san/miniconda3/envs/gpu2/lib/python3.9/site-packages (from tensorflow) (3.17.3)\n",
      "Requirement already satisfied: grpcio<2.0,>=1.37.0 in /home/san/miniconda3/envs/gpu2/lib/python3.9/site-packages (from tensorflow) (1.39.0)\n",
      "Requirement already satisfied: keras~=2.6 in /home/san/miniconda3/envs/gpu2/lib/python3.9/site-packages (from tensorflow) (2.6.0)\n",
      "Requirement already satisfied: termcolor~=1.1.0 in /home/san/miniconda3/envs/gpu2/lib/python3.9/site-packages (from tensorflow) (1.1.0)\n",
      "Requirement already satisfied: numpy~=1.19.2 in /home/san/miniconda3/envs/gpu2/lib/python3.9/site-packages (from tensorflow) (1.19.5)\n",
      "Requirement already satisfied: tensorboard~=2.6 in /home/san/miniconda3/envs/gpu2/lib/python3.9/site-packages (from tensorflow) (2.6.0)\n",
      "Requirement already satisfied: absl-py~=0.10 in /home/san/miniconda3/envs/gpu2/lib/python3.9/site-packages (from tensorflow) (0.13.0)\n",
      "Requirement already satisfied: gast==0.4.0 in /home/san/miniconda3/envs/gpu2/lib/python3.9/site-packages (from tensorflow) (0.4.0)\n",
      "Requirement already satisfied: wrapt~=1.12.1 in /home/san/miniconda3/envs/gpu2/lib/python3.9/site-packages (from tensorflow) (1.12.1)\n",
      "Requirement already satisfied: h5py~=3.1.0 in /home/san/miniconda3/envs/gpu2/lib/python3.9/site-packages (from tensorflow) (3.1.0)\n",
      "Requirement already satisfied: opt-einsum~=3.3.0 in /home/san/miniconda3/envs/gpu2/lib/python3.9/site-packages (from tensorflow) (3.3.0)\n",
      "Requirement already satisfied: six~=1.15.0 in /home/san/miniconda3/envs/gpu2/lib/python3.9/site-packages (from tensorflow) (1.15.0)\n",
      "Requirement already satisfied: clang~=5.0 in /home/san/miniconda3/envs/gpu2/lib/python3.9/site-packages (from tensorflow) (5.0)\n",
      "Requirement already satisfied: astunparse~=1.6.3 in /home/san/miniconda3/envs/gpu2/lib/python3.9/site-packages (from tensorflow) (1.6.3)\n",
      "Requirement already satisfied: keras-preprocessing~=1.1.2 in /home/san/miniconda3/envs/gpu2/lib/python3.9/site-packages (from tensorflow) (1.1.2)\n",
      "Requirement already satisfied: flatbuffers~=1.12.0 in /home/san/miniconda3/envs/gpu2/lib/python3.9/site-packages (from tensorflow) (1.12)\n",
      "Requirement already satisfied: google-auth<2,>=1.6.3 in /home/san/miniconda3/envs/gpu2/lib/python3.9/site-packages (from tensorboard~=2.6->tensorflow) (1.35.0)\n",
      "Requirement already satisfied: setuptools>=41.0.0 in /home/san/miniconda3/envs/gpu2/lib/python3.9/site-packages (from tensorboard~=2.6->tensorflow) (52.0.0.post20210125)\n",
      "Requirement already satisfied: google-auth-oauthlib<0.5,>=0.4.1 in /home/san/miniconda3/envs/gpu2/lib/python3.9/site-packages (from tensorboard~=2.6->tensorflow) (0.4.5)\n",
      "Requirement already satisfied: tensorboard-plugin-wit>=1.6.0 in /home/san/miniconda3/envs/gpu2/lib/python3.9/site-packages (from tensorboard~=2.6->tensorflow) (1.8.0)\n",
      "Requirement already satisfied: requests<3,>=2.21.0 in /home/san/miniconda3/envs/gpu2/lib/python3.9/site-packages (from tensorboard~=2.6->tensorflow) (2.26.0)\n",
      "Requirement already satisfied: werkzeug>=0.11.15 in /home/san/miniconda3/envs/gpu2/lib/python3.9/site-packages (from tensorboard~=2.6->tensorflow) (2.0.1)\n",
      "Requirement already satisfied: tensorboard-data-server<0.7.0,>=0.6.0 in /home/san/miniconda3/envs/gpu2/lib/python3.9/site-packages (from tensorboard~=2.6->tensorflow) (0.6.1)\n",
      "Requirement already satisfied: markdown>=2.6.8 in /home/san/miniconda3/envs/gpu2/lib/python3.9/site-packages (from tensorboard~=2.6->tensorflow) (3.3.4)\n",
      "Requirement already satisfied: pyasn1-modules>=0.2.1 in /home/san/miniconda3/envs/gpu2/lib/python3.9/site-packages (from google-auth<2,>=1.6.3->tensorboard~=2.6->tensorflow) (0.2.8)\n",
      "Requirement already satisfied: rsa<5,>=3.1.4 in /home/san/miniconda3/envs/gpu2/lib/python3.9/site-packages (from google-auth<2,>=1.6.3->tensorboard~=2.6->tensorflow) (4.7.2)\n",
      "Requirement already satisfied: cachetools<5.0,>=2.0.0 in /home/san/miniconda3/envs/gpu2/lib/python3.9/site-packages (from google-auth<2,>=1.6.3->tensorboard~=2.6->tensorflow) (4.2.2)\n",
      "Requirement already satisfied: requests-oauthlib>=0.7.0 in /home/san/miniconda3/envs/gpu2/lib/python3.9/site-packages (from google-auth-oauthlib<0.5,>=0.4.1->tensorboard~=2.6->tensorflow) (1.3.0)\n",
      "Requirement already satisfied: pyasn1<0.5.0,>=0.4.6 in /home/san/miniconda3/envs/gpu2/lib/python3.9/site-packages (from pyasn1-modules>=0.2.1->google-auth<2,>=1.6.3->tensorboard~=2.6->tensorflow) (0.4.8)\n",
      "Requirement already satisfied: idna<4,>=2.5 in /home/san/miniconda3/envs/gpu2/lib/python3.9/site-packages (from requests<3,>=2.21.0->tensorboard~=2.6->tensorflow) (3.2)\n",
      "Requirement already satisfied: urllib3<1.27,>=1.21.1 in /home/san/miniconda3/envs/gpu2/lib/python3.9/site-packages (from requests<3,>=2.21.0->tensorboard~=2.6->tensorflow) (1.26.6)\n",
      "Requirement already satisfied: certifi>=2017.4.17 in /home/san/miniconda3/envs/gpu2/lib/python3.9/site-packages (from requests<3,>=2.21.0->tensorboard~=2.6->tensorflow) (2021.5.30)\n",
      "Requirement already satisfied: charset-normalizer~=2.0.0 in /home/san/miniconda3/envs/gpu2/lib/python3.9/site-packages (from requests<3,>=2.21.0->tensorboard~=2.6->tensorflow) (2.0.4)\n",
      "Requirement already satisfied: oauthlib>=3.0.0 in /home/san/miniconda3/envs/gpu2/lib/python3.9/site-packages (from requests-oauthlib>=0.7.0->google-auth-oauthlib<0.5,>=0.4.1->tensorboard~=2.6->tensorflow) (3.1.1)\n",
      "Requirement already satisfied: keras in /home/san/miniconda3/envs/gpu2/lib/python3.9/site-packages (2.6.0)\n",
      "Requirement already satisfied: numpy in /home/san/miniconda3/envs/gpu2/lib/python3.9/site-packages (1.19.5)\n",
      "Requirement already satisfied: pydot in /home/san/miniconda3/envs/gpu2/lib/python3.9/site-packages (1.4.2)\n",
      "Requirement already satisfied: pyparsing>=2.1.4 in /home/san/miniconda3/envs/gpu2/lib/python3.9/site-packages (from pydot) (2.4.7)\n",
      "Requirement already satisfied: graphviz in /home/san/miniconda3/envs/gpu2/lib/python3.9/site-packages (0.17)\n",
      "Requirement already satisfied: pandas in /home/san/miniconda3/envs/gpu2/lib/python3.9/site-packages (1.3.2)\n",
      "Requirement already satisfied: pytz>=2017.3 in /home/san/miniconda3/envs/gpu2/lib/python3.9/site-packages (from pandas) (2021.1)\n",
      "Requirement already satisfied: numpy>=1.17.3 in /home/san/miniconda3/envs/gpu2/lib/python3.9/site-packages (from pandas) (1.19.5)\n",
      "Requirement already satisfied: python-dateutil>=2.7.3 in /home/san/miniconda3/envs/gpu2/lib/python3.9/site-packages (from pandas) (2.8.1)\n",
      "Requirement already satisfied: six>=1.5 in /home/san/miniconda3/envs/gpu2/lib/python3.9/site-packages (from python-dateutil>=2.7.3->pandas) (1.15.0)\n",
      "Requirement already satisfied: pydotplus in /home/san/miniconda3/envs/gpu2/lib/python3.9/site-packages (2.0.2)\n",
      "Requirement already satisfied: pyparsing>=2.0.1 in /home/san/miniconda3/envs/gpu2/lib/python3.9/site-packages (from pydotplus) (2.4.7)\n"
     ]
    }
   ],
   "source": [
    "!pip install matplotlib\n",
    "!pip install tensorflow\n",
    "!pip install keras\n",
    "!pip install numpy\n",
    "!pip install pydot\n",
    "!pip install graphviz\n",
    "!pip install pandas\n",
    "!pip install pydotplus\n"
   ]
  },
  {
   "cell_type": "code",
   "execution_count": 39,
   "id": "dde31fcf",
   "metadata": {},
   "outputs": [],
   "source": [
    "import tensorflow as tf\n",
    "from tensorflow import keras\n",
    "import matplotlib.pyplot as plt"
   ]
  },
  {
   "cell_type": "code",
   "execution_count": 40,
   "id": "9a3c78dd",
   "metadata": {},
   "outputs": [
    {
     "data": {
      "text/plain": [
       "'2.6.0'"
      ]
     },
     "execution_count": 40,
     "metadata": {},
     "output_type": "execute_result"
    }
   ],
   "source": [
    "keras.__version__"
   ]
  },
  {
   "cell_type": "code",
   "execution_count": 41,
   "id": "0deb2cf3",
   "metadata": {},
   "outputs": [
    {
     "data": {
      "text/plain": [
       "'2.6.0'"
      ]
     },
     "execution_count": 41,
     "metadata": {},
     "output_type": "execute_result"
    }
   ],
   "source": [
    "tf.__version__\n"
   ]
  },
  {
   "cell_type": "markdown",
   "id": "93442f6b",
   "metadata": {},
   "source": [
    "### Dataset\n",
    "\n",
    "Fashion mnist from keras which is a labelled dataset\n",
    "\n",
    "--------------------------\n",
    "|labels |   Classes  |\n",
    "|---:|:-----------|\n",
    "|0           |  T-shirt/top |\n",
    "|1           |   Trouser |\n",
    "|2           |  Pullover|\n",
    "|3           |    Dress |\n",
    "|4           |    Coat|\n",
    "|5           |   Sandal |\n",
    "|6           |    Shirt|\n",
    "|7           |    Sneaker|\n",
    "|8           |    Bag|\n",
    "|9           |    Ankle boot|\n",
    "\n"
   ]
  },
  {
   "cell_type": "code",
   "execution_count": 42,
   "id": "dc006945",
   "metadata": {},
   "outputs": [],
   "source": [
    "fashion_mnist = keras.datasets.fashion_mnist\n",
    "(train_images, train_labels), (test_images, test_labels) = fashion_mnist.load_data()\n",
    "##taking dataset from keras\n",
    "##loading train and test data from dataset\n"
   ]
  },
  {
   "cell_type": "code",
   "execution_count": 43,
   "id": "fc8e5429",
   "metadata": {},
   "outputs": [
    {
     "data": {
      "text/plain": [
       "<matplotlib.image.AxesImage at 0x7f29177392e0>"
      ]
     },
     "execution_count": 43,
     "metadata": {},
     "output_type": "execute_result"
    },
    {
     "data": {
      "image/png": "[encoded data removed]",
      "text/plain": [
       "<Figure size 432x288 with 1 Axes>"
      ]
     },
     "metadata": {
      "needs_background": "light"
     },
     "output_type": "display_data"
    }
   ],
   "source": [
    "plt.imshow(train_images[10])\n",
    "### to view different images in the dataset"
   ]
  },
  {
   "cell_type": "code",
   "execution_count": 44,
   "id": "9cfc49a1",
   "metadata": {},
   "outputs": [
    {
     "data": {
      "text/plain": [
       "7"
      ]
     },
     "execution_count": 44,
     "metadata": {},
     "output_type": "execute_result"
    }
   ],
   "source": [
    "train_labels[6]\n",
    "### to view corresponding label assigned in the dataset"
   ]
  },
  {
   "cell_type": "code",
   "execution_count": 45,
   "id": "38516816",
   "metadata": {},
   "outputs": [],
   "source": [
    "class_name = [\"T-shirt/top\", \"Trouser\", \"Pullover\", \"Dress\", \"Coat\",\n",
    "               \"Sandal\", \"Shirt\", \"Sneaker\", \"Bag\", \"Ankle boot\"]\n",
    "\n",
    "## assigning class names for reference\n"
   ]
  },
  {
   "cell_type": "code",
   "execution_count": 46,
   "id": "d0e8b813",
   "metadata": {},
   "outputs": [
    {
     "data": {
      "text/plain": [
       "'Sneaker'"
      ]
     },
     "execution_count": 46,
     "metadata": {},
     "output_type": "execute_result"
    }
   ],
   "source": [
    "class_name[train_labels[6]]"
   ]
  },
  {
   "cell_type": "code",
   "execution_count": 47,
   "id": "b6d8dea5",
   "metadata": {},
   "outputs": [
    {
     "data": {
      "text/plain": [
       "array([[  0,   0,   0,   0,   0,   0,   0,   0,   0,   0,   0,   0,   0,\n",
       "          0,   0,   0,   0,   0,   0,   0,   0,   0,   0,   0,   0,   0,\n",
       "          0,   0],\n",
       "       [  0,   0,   0,   0,   0,   0,   0,   0,   0,   0,   0,   0,   0,\n",
       "          0,   0,   0,   0,   0,   0,   0,   0,   0,   0,   0,   0,   0,\n",
       "          0,   0],\n",
       "       [  0,   0,   0,   0,   0,   0,   0,   0,   0,   0,   0,   0,   0,\n",
       "          0,   0,   0,   0,   0,   0,   0,   0,   0,   0,   0,   0,   0,\n",
       "          0,   0],\n",
       "       [  0,   0,   0,   0,   0,   0,   0,   0,   0,   0,   0,   0,   0,\n",
       "          0,   0,   0,   0,   0,   0,   0,   0,   0,   0,   0,   0,   0,\n",
       "          0,   0],\n",
       "       [  0,   0,   0,   0,   0,   0,   0,   0,   0,   0,   0,   0,   0,\n",
       "          0,   0,   0,   0,   0,   0,   0,   0,   0,   0,   0,   0,   0,\n",
       "          0,   0],\n",
       "       [  0,   0,   0,   0,   0,   0,   0,   0,   0,   0,   0,   0,   0,\n",
       "          0,   0,   0,   0,   0,   0,   0,   0,   0,   0,   0,   0,   0,\n",
       "          0,   0],\n",
       "       [  0,   0,   0,   0,   0,   0,   0,   0,   0,   0,   0,   0,   0,\n",
       "          0,   0,   0,   0,   0,   0,   0,   0,   0,   0,   0,   0,   0,\n",
       "          0,   0],\n",
       "       [  0,   0,   0,   0,   0,   0,   0,   0,   0,   0,   0,   0,   0,\n",
       "          0,   0,   0,   0,   0,   0,   0,   0,   0,   0,   0,   0,   0,\n",
       "          0,   0],\n",
       "       [  0,   0,   0,   0,   0,   0,   0,   0,   0,   1,   1,   0,   3,\n",
       "          1,   0,   4,   0,   0,   0,   2,   0,   0,   0,   0,   5,   1,\n",
       "          0,   0],\n",
       "       [  0,   0,   0,   0,   0,   0,   0,   0,   0,   0,   0,   0,   4,\n",
       "          0,   0,   0,   0,   0, 106, 229,   0,   0,   0,   0,   0,   0,\n",
       "          0,   0],\n",
       "       [  0,   0,   0,   0,   0,   0,   0,   0,   0,   0,   1,   0,   0,\n",
       "          0,   0,  90, 138, 223, 214, 209, 167,   0,   0,   0,   6, 124,\n",
       "          0,   0],\n",
       "       [  0,   0,   0,   0,   0,   0,   0,   0,   1,   0,   0,   0,  37,\n",
       "        122, 179, 249, 214, 195, 181, 213, 241,   0,   0,   0,  94, 179,\n",
       "          0,   0],\n",
       "       [  0,   0,   0,   2,   0,   6,   0,   0,   0,   0,  16, 149, 236,\n",
       "        226, 201, 195, 200, 204, 155, 209, 116,   0,  22, 109, 251,  35,\n",
       "         51,   0],\n",
       "       [  0,   0,   1,   3,   0,   0,   0,   0,  67, 150, 240, 221, 194,\n",
       "        190, 204, 214, 205, 195, 207, 185, 206, 233, 224, 179,   2,  10,\n",
       "         22,   0],\n",
       "       [  0,   0,   0,   0,   0,   0, 110, 214, 237, 209, 196, 192, 215,\n",
       "        215, 213, 213, 207, 193, 186, 199, 206, 175,   0,   0, 124, 230,\n",
       "        200,  36],\n",
       "       [  0,  50, 119, 158, 166, 192, 204, 198, 187, 202, 203, 211, 214,\n",
       "        204, 209, 210, 204, 197, 191, 190, 191, 229, 230, 242, 214, 193,\n",
       "        203, 137],\n",
       "       [108, 190, 199, 200, 194, 199, 194, 195, 199, 200, 189, 187, 191,\n",
       "        189, 197, 198, 205, 200, 200, 208, 213, 215, 212, 213, 209, 202,\n",
       "        216, 137],\n",
       "       [ 15,  55, 114, 157, 188, 207, 216, 220, 217, 219, 221, 242, 240,\n",
       "        243, 249, 253, 255, 255, 243, 232, 226, 222, 221, 213, 215, 198,\n",
       "        209,  62],\n",
       "       [ 16,  11,   0,   0,   7,  40,  76, 108, 134, 142, 143, 145, 143,\n",
       "        123, 111,  92,  76,  61,  45,  35,  25,  25,  31,  32,  32,  12,\n",
       "          1,   0],\n",
       "       [  0,  11,  25,  26,  26,  22,  12,  20,  15,  15,  18,  17,  19,\n",
       "         27,  30,  36,  41,  49,  57,  66,  79,  84,  79,  83,  93,  80,\n",
       "         75,  45],\n",
       "       [  0,   0,   0,   0,   0,   9,  14,  17,  27,  34,  39,  39,  42,\n",
       "         44,  41,  41,  43,  48,  43,  30,  31,  35,  40,  37,  40,  37,\n",
       "         26,   0],\n",
       "       [  0,   0,   0,   0,   0,   0,   0,   0,   0,   0,   0,   0,   0,\n",
       "          0,   0,   0,   0,   0,   0,   0,   0,   0,   0,   0,   0,   0,\n",
       "          0,   0],\n",
       "       [  0,   0,   0,   0,   0,   0,   0,   0,   0,   0,   0,   0,   0,\n",
       "          0,   0,   0,   0,   0,   0,   0,   0,   0,   0,   0,   0,   0,\n",
       "          0,   0],\n",
       "       [  0,   0,   0,   0,   0,   0,   0,   0,   0,   0,   0,   0,   0,\n",
       "          0,   0,   0,   0,   0,   0,   0,   0,   0,   0,   0,   0,   0,\n",
       "          0,   0],\n",
       "       [  0,   0,   0,   0,   0,   0,   0,   0,   0,   0,   0,   0,   0,\n",
       "          0,   0,   0,   0,   0,   0,   0,   0,   0,   0,   0,   0,   0,\n",
       "          0,   0],\n",
       "       [  0,   0,   0,   0,   0,   0,   0,   0,   0,   0,   0,   0,   0,\n",
       "          0,   0,   0,   0,   0,   0,   0,   0,   0,   0,   0,   0,   0,\n",
       "          0,   0],\n",
       "       [  0,   0,   0,   0,   0,   0,   0,   0,   0,   0,   0,   0,   0,\n",
       "          0,   0,   0,   0,   0,   0,   0,   0,   0,   0,   0,   0,   0,\n",
       "          0,   0],\n",
       "       [  0,   0,   0,   0,   0,   0,   0,   0,   0,   0,   0,   0,   0,\n",
       "          0,   0,   0,   0,   0,   0,   0,   0,   0,   0,   0,   0,   0,\n",
       "          0,   0]], dtype=uint8)"
      ]
     },
     "execution_count": 47,
     "metadata": {},
     "output_type": "execute_result"
    }
   ],
   "source": [
    "train_images[6]\n",
    "## if we dont use plt.imshow we can see the object structure thats a 28*28 pixel values of the image each pixel lies between 0 and 255 (int is 8)"
   ]
  },
  {
   "cell_type": "markdown",
   "id": "73d8b016",
   "metadata": {},
   "source": [
    "### Normalization\n",
    "\n",
    "It is the process of scaling the dataset to a smaller range of values so that more accurate comparisons can be made. In the fashion mnist dataset, \n",
    "pixels have values from 0 to 255 which gives a range of hues, to make it grayscale we can divide the training data by 255.\n",
    "\n",
    "Here we know the scale so we are easily dividing by 255. For typical ML models where scale is unknown, we subtract the mean and divide the result\n",
    "by its standard deviation value.\n",
    "\n",
    "\n",
    "\n",
    "\n"
   ]
  },
  {
   "cell_type": "code",
   "execution_count": 48,
   "id": "e9c9554f",
   "metadata": {},
   "outputs": [],
   "source": [
    "tr_img_norm=(train_images/255.)\n",
    "tst_img_norm=(test_images/255.)"
   ]
  },
  {
   "cell_type": "markdown",
   "id": "2ca742df",
   "metadata": {},
   "source": [
    "#### Split the data into train/validation/test datasets\n",
    "In the earlier step of importing the date, we had 60,000 datasets for training and 10,000 test datasets. Now we further split the training data into train/validation. Here is how each type of dateset is used in deep learning:\n",
    "\n",
    "* __Training data__ — used for training the model\n",
    "* __Validation data__ — used for tuning the hyperparameters and evaluate the models\n",
    "* __Test data__ — used to test the model after the model has gone through initial vetting by the validation set."
   ]
  },
  {
   "cell_type": "code",
   "execution_count": 49,
   "id": "9aabb4d7",
   "metadata": {},
   "outputs": [],
   "source": [
    "im_val, train_images = tr_img_norm[:5000], tr_img_norm[5000:]\n",
    "\n",
    "### first 5k images will be used for validation (im_val), next 55000 will be training dataset (5k to 60k)\n",
    "labels_val, train_labels = train_labels[:5000], train_labels[5000:]\n",
    "### first 5k labels will be used for validation(labels_val), next 55000 will be training dataset (5k to 60k)\n",
    "\n",
    "test_images = tst_img_norm\n",
    "\n"
   ]
  },
  {
   "cell_type": "code",
   "execution_count": 50,
   "id": "84b08b5e",
   "metadata": {},
   "outputs": [
    {
     "data": {
      "text/plain": [
       "array([[0.        , 0.        , 0.        , 0.        , 0.        ,\n",
       "        0.        , 0.        , 0.17254902, 0.21568627, 0.37647059,\n",
       "        0.78823529, 0.1372549 , 0.        , 0.        , 0.        ,\n",
       "        0.        , 0.        , 0.23529412, 0.72156863, 0.20784314,\n",
       "        0.19607843, 0.06666667, 0.        , 0.        , 0.        ,\n",
       "        0.        , 0.        , 0.        ],\n",
       "       [0.        , 0.        , 0.        , 0.        , 0.        ,\n",
       "        0.        , 0.35686275, 0.40784314, 0.3254902 , 0.17254902,\n",
       "        0.70196078, 0.95294118, 0.83921569, 0.61176471, 0.58039216,\n",
       "        0.83137255, 0.97254902, 1.        , 0.72156863, 0.15686275,\n",
       "        0.3372549 , 0.42745098, 0.30588235, 0.        , 0.        ,\n",
       "        0.        , 0.        , 0.        ],\n",
       "       [0.        , 0.        , 0.        , 0.        , 0.        ,\n",
       "        0.29411765, 0.55686275, 0.19607843, 0.29411765, 0.23529412,\n",
       "        0.08235294, 0.38431373, 0.83137255, 0.8745098 , 0.73333333,\n",
       "        0.90980392, 0.83137255, 0.36862745, 0.01568627, 0.22352941,\n",
       "        0.25490196, 0.21568627, 0.56078431, 0.27843137, 0.        ,\n",
       "        0.        , 0.        , 0.        ],\n",
       "       [0.        , 0.        , 0.        , 0.        , 0.        ,\n",
       "        0.41960784, 0.52941176, 0.36470588, 0.24705882, 0.24705882,\n",
       "        0.21568627, 0.10588235, 0.11372549, 0.38431373, 0.43921569,\n",
       "        0.22745098, 0.14509804, 0.0745098 , 0.20784314, 0.22745098,\n",
       "        0.23529412, 0.34509804, 0.47843137, 0.43921569, 0.        ,\n",
       "        0.        , 0.        , 0.        ],\n",
       "       [0.        , 0.        , 0.        , 0.        , 0.        ,\n",
       "        0.60784314, 0.45490196, 0.41568627, 0.27843137, 0.24313725,\n",
       "        0.19215686, 0.24705882, 0.19215686, 0.13333333, 0.12156863,\n",
       "        0.1372549 , 0.19607843, 0.24705882, 0.21568627, 0.22745098,\n",
       "        0.25490196, 0.42745098, 0.44705882, 0.58823529, 0.        ,\n",
       "        0.        , 0.        , 0.        ],\n",
       "       [0.        , 0.        , 0.        , 0.        , 0.        ,\n",
       "        0.57647059, 0.54117647, 0.38823529, 0.37647059, 0.24705882,\n",
       "        0.24313725, 0.20784314, 0.14509804, 0.18431373, 0.19215686,\n",
       "        0.10588235, 0.1254902 , 0.19607843, 0.22352941, 0.25490196,\n",
       "        0.31372549, 0.41568627, 0.52941176, 0.59607843, 0.00392157,\n",
       "        0.        , 0.        , 0.        ],\n",
       "       [0.        , 0.        , 0.        , 0.        , 0.20392157,\n",
       "        0.58039216, 0.41568627, 0.45882353, 0.3254902 , 0.30588235,\n",
       "        0.13333333, 0.13333333, 0.23529412, 0.20392157, 0.22745098,\n",
       "        0.2745098 , 0.22352941, 0.13333333, 0.19607843, 0.2627451 ,\n",
       "        0.2745098 , 0.45490196, 0.41568627, 0.57647059, 0.18431373,\n",
       "        0.        , 0.        , 0.        ],\n",
       "       [0.        , 0.        , 0.        , 0.        , 0.50588235,\n",
       "        0.48627451, 0.39607843, 0.60784314, 0.51764706, 0.4       ,\n",
       "        0.2745098 , 0.2745098 , 0.21568627, 0.19607843, 0.14509804,\n",
       "        0.14509804, 0.24313725, 0.34901961, 0.16470588, 0.33333333,\n",
       "        0.46666667, 0.58823529, 0.45490196, 0.47843137, 0.47058824,\n",
       "        0.        , 0.        , 0.        ],\n",
       "       [0.        , 0.        , 0.        , 0.        , 0.29411765,\n",
       "        0.50588235, 0.56078431, 0.94117647, 0.66666667, 0.44705882,\n",
       "        0.34901961, 0.15686275, 0.14509804, 0.17647059, 0.19215686,\n",
       "        0.19607843, 0.13333333, 0.20784314, 0.38431373, 0.34509804,\n",
       "        0.61176471, 0.93333333, 0.54901961, 0.50980392, 0.29803922,\n",
       "        0.        , 0.        , 0.        ],\n",
       "       [0.        , 0.        , 0.        , 0.        , 0.        ,\n",
       "        0.        , 0.06666667, 0.85098039, 0.88235294, 0.40784314,\n",
       "        0.38823529, 0.36862745, 0.19215686, 0.23529412, 0.19607843,\n",
       "        0.2627451 , 0.2627451 , 0.27843137, 0.34901961, 0.25490196,\n",
       "        0.83137255, 0.8745098 , 0.06666667, 0.        , 0.        ,\n",
       "        0.        , 0.        , 0.        ],\n",
       "       [0.        , 0.        , 0.        , 0.        , 0.        ,\n",
       "        0.        , 0.        , 0.13333333, 0.70980392, 0.41568627,\n",
       "        0.29411765, 0.45882353, 0.16470588, 0.1254902 , 0.28627451,\n",
       "        0.18431373, 0.11372549, 0.37647059, 0.3254902 , 0.4       ,\n",
       "        0.67058824, 0.15294118, 0.        , 0.        , 0.        ,\n",
       "        0.        , 0.        , 0.        ],\n",
       "       [0.        , 0.        , 0.        , 0.        , 0.        ,\n",
       "        0.00392157, 0.        , 0.12156863, 0.69803922, 0.47058824,\n",
       "        0.26666667, 0.43529412, 0.38431373, 0.03137255, 0.16470588,\n",
       "        0.29411765, 0.20392157, 0.20784314, 0.23529412, 0.45882353,\n",
       "        0.68235294, 0.12156863, 0.        , 0.01176471, 0.        ,\n",
       "        0.        , 0.        , 0.        ],\n",
       "       [0.        , 0.        , 0.        , 0.        , 0.        ,\n",
       "        0.00392157, 0.        , 0.03137255, 0.63921569, 0.47843137,\n",
       "        0.34509804, 0.23529412, 0.41960784, 0.45882353, 0.30588235,\n",
       "        0.47843137, 0.36862745, 0.25490196, 0.24705882, 0.47058824,\n",
       "        0.65882353, 0.01568627, 0.        , 0.00392157, 0.        ,\n",
       "        0.        , 0.        , 0.        ],\n",
       "       [0.        , 0.        , 0.        , 0.        , 0.        ,\n",
       "        0.00392157, 0.        , 0.        , 0.57647059, 0.44705882,\n",
       "        0.42745098, 0.39607843, 0.24705882, 0.24705882, 0.41568627,\n",
       "        0.19215686, 0.15686275, 0.39607843, 0.4       , 0.39607843,\n",
       "        0.6       , 0.        , 0.        , 0.00392157, 0.        ,\n",
       "        0.        , 0.        , 0.        ],\n",
       "       [0.        , 0.        , 0.        , 0.        , 0.        ,\n",
       "        0.        , 0.        , 0.        , 0.49803922, 0.42745098,\n",
       "        0.40784314, 0.49019608, 0.41960784, 0.3254902 , 0.40784314,\n",
       "        0.35686275, 0.38431373, 0.41960784, 0.40784314, 0.38823529,\n",
       "        0.51764706, 0.        , 0.        , 0.        , 0.        ,\n",
       "        0.        , 0.        , 0.        ],\n",
       "       [0.        , 0.        , 0.        , 0.        , 0.        ,\n",
       "        0.        , 0.        , 0.        , 0.45490196, 0.45882353,\n",
       "        0.43921569, 0.43921569, 0.42745098, 0.42745098, 0.46666667,\n",
       "        0.4       , 0.39607843, 0.4       , 0.4       , 0.41568627,\n",
       "        0.44705882, 0.        , 0.        , 0.        , 0.        ,\n",
       "        0.        , 0.        , 0.        ],\n",
       "       [0.        , 0.        , 0.        , 0.        , 0.        ,\n",
       "        0.        , 0.        , 0.        , 0.46666667, 0.43921569,\n",
       "        0.41960784, 0.43529412, 0.43529412, 0.38431373, 0.44705882,\n",
       "        0.36862745, 0.36862745, 0.41960784, 0.39607843, 0.40784314,\n",
       "        0.45882353, 0.        , 0.        , 0.        , 0.        ,\n",
       "        0.        , 0.        , 0.        ],\n",
       "       [0.        , 0.        , 0.        , 0.        , 0.        ,\n",
       "        0.        , 0.        , 0.        , 0.44705882, 0.43529412,\n",
       "        0.42745098, 0.43529412, 0.44705882, 0.40784314, 0.45882353,\n",
       "        0.40784314, 0.38431373, 0.41960784, 0.43921569, 0.39607843,\n",
       "        0.45882353, 0.        , 0.        , 0.00392157, 0.        ,\n",
       "        0.        , 0.        , 0.        ],\n",
       "       [0.        , 0.        , 0.        , 0.        , 0.        ,\n",
       "        0.00392157, 0.        , 0.03137255, 0.46666667, 0.43529412,\n",
       "        0.43529412, 0.42745098, 0.44705882, 0.40784314, 0.46666667,\n",
       "        0.41960784, 0.38823529, 0.41960784, 0.45882353, 0.37647059,\n",
       "        0.46666667, 0.03529412, 0.        , 0.        , 0.        ,\n",
       "        0.        , 0.        , 0.        ],\n",
       "       [0.        , 0.        , 0.        , 0.        , 0.        ,\n",
       "        0.00392157, 0.        , 0.15294118, 0.48627451, 0.4       ,\n",
       "        0.44705882, 0.44705882, 0.41568627, 0.39607843, 0.47058824,\n",
       "        0.41960784, 0.38431373, 0.41960784, 0.42745098, 0.36862745,\n",
       "        0.45882353, 0.20392157, 0.        , 0.        , 0.        ,\n",
       "        0.        , 0.        , 0.        ],\n",
       "       [0.        , 0.        , 0.        , 0.        , 0.        ,\n",
       "        0.00392157, 0.        , 0.20784314, 0.48627451, 0.39607843,\n",
       "        0.44705882, 0.45490196, 0.41568627, 0.42745098, 0.47058824,\n",
       "        0.43921569, 0.4       , 0.38823529, 0.45490196, 0.38431373,\n",
       "        0.42745098, 0.34509804, 0.        , 0.        , 0.        ,\n",
       "        0.        , 0.        , 0.        ],\n",
       "       [0.        , 0.        , 0.        , 0.        , 0.        ,\n",
       "        0.        , 0.        , 0.29803922, 0.44705882, 0.40784314,\n",
       "        0.41960784, 0.41960784, 0.4       , 0.39607843, 0.44705882,\n",
       "        0.43921569, 0.4       , 0.37647059, 0.47058824, 0.36862745,\n",
       "        0.42745098, 0.38823529, 0.        , 0.        , 0.        ,\n",
       "        0.        , 0.        , 0.        ],\n",
       "       [0.        , 0.        , 0.        , 0.        , 0.        ,\n",
       "        0.        , 0.        , 0.34901961, 0.41960784, 0.4       ,\n",
       "        0.41960784, 0.43529412, 0.41960784, 0.4       , 0.43529412,\n",
       "        0.42745098, 0.4       , 0.37647059, 0.43921569, 0.38823529,\n",
       "        0.43529412, 0.41568627, 0.        , 0.        , 0.        ,\n",
       "        0.        , 0.        , 0.        ],\n",
       "       [0.        , 0.        , 0.        , 0.        , 0.        ,\n",
       "        0.        , 0.        , 0.36862745, 0.38431373, 0.36862745,\n",
       "        0.41960784, 0.42745098, 0.41568627, 0.41568627, 0.43921569,\n",
       "        0.41960784, 0.36862745, 0.4       , 0.47058824, 0.42745098,\n",
       "        0.37647059, 0.44705882, 0.        , 0.        , 0.        ,\n",
       "        0.        , 0.        , 0.        ],\n",
       "       [0.        , 0.        , 0.        , 0.        , 0.        ,\n",
       "        0.        , 0.        , 0.36862745, 0.37647059, 0.39607843,\n",
       "        0.41568627, 0.4       , 0.40784314, 0.40784314, 0.43921569,\n",
       "        0.43921569, 0.37647059, 0.38823529, 0.43921569, 0.45490196,\n",
       "        0.38823529, 0.41960784, 0.        , 0.        , 0.        ,\n",
       "        0.        , 0.        , 0.        ],\n",
       "       [0.        , 0.        , 0.        , 0.        , 0.        ,\n",
       "        0.        , 0.        , 0.40784314, 0.38431373, 0.38431373,\n",
       "        0.4       , 0.38431373, 0.39607843, 0.38823529, 0.40784314,\n",
       "        0.42745098, 0.36470588, 0.38823529, 0.38431373, 0.41960784,\n",
       "        0.40784314, 0.47843137, 0.        , 0.        , 0.00392157,\n",
       "        0.        , 0.        , 0.        ],\n",
       "       [0.        , 0.        , 0.        , 0.        , 0.        ,\n",
       "        0.        , 0.        , 0.23529412, 0.41568627, 0.45882353,\n",
       "        0.43529412, 0.41960784, 0.40784314, 0.4       , 0.44705882,\n",
       "        0.46666667, 0.39607843, 0.45490196, 0.45490196, 0.52941176,\n",
       "        0.45490196, 0.3372549 , 0.        , 0.        , 0.00392157,\n",
       "        0.        , 0.        , 0.        ],\n",
       "       [0.        , 0.        , 0.        , 0.        , 0.        ,\n",
       "        0.        , 0.        , 0.        , 0.        , 0.1372549 ,\n",
       "        0.23529412, 0.30588235, 0.34509804, 0.38431373, 0.39607843,\n",
       "        0.40784314, 0.31764706, 0.25490196, 0.21568627, 0.1372549 ,\n",
       "        0.        , 0.        , 0.        , 0.        , 0.        ,\n",
       "        0.        , 0.        , 0.        ]])"
      ]
     },
     "execution_count": 50,
     "metadata": {},
     "output_type": "execute_result"
    }
   ],
   "source": [
    "train_images[1]\n",
    "## we are viewing the second imaage data and we can see its between 0 and 1"
   ]
  },
  {
   "cell_type": "markdown",
   "id": "2d82253d",
   "metadata": {},
   "source": [
    "### test train split\n",
    "\n",
    "more accurate learning models keep the test data as unseen\n",
    "\n",
    "### Building and training the model\n",
    "\n",
    "1. set the same seed for both np and tf\n",
    "2. create a model object which is sequential in nature\n",
    "3. add input layer using model.add, define shape of input layer\n",
    "4. add hidden layer using model.add, which is dense layer, specify num of neurons and activation type\n",
    "5. output layer is defined with num of neurons and activation type\n",
    "\n"
   ]
  },
  {
   "cell_type": "code",
   "execution_count": 51,
   "id": "b3d1a752",
   "metadata": {},
   "outputs": [],
   "source": [
    "import numpy as np\n",
    "np.random.seed(42)\n",
    "tf.random.set_seed(42)\n",
    "## set the same seed values"
   ]
  },
  {
   "cell_type": "code",
   "execution_count": 52,
   "id": "027b79d4",
   "metadata": {},
   "outputs": [],
   "source": [
    "model = keras.models.Sequential()\n",
    "\n",
    "model.add(keras.layers.Flatten(input_shape=[28, 28]))\n",
    "##define shape of input layer - we use flatten to 28*28 which is 2D to 784 in 1D\n",
    "model.add(keras.layers.Dense(300, activation=\"relu\"))\n",
    "##4. add hidden layer using model.add, which is dense layer, with 300 neurons and ReLu activation\n",
    "model.add(keras.layers.Dense(100, activation=\"relu\"))\n",
    "## add hidden layer using model.add, which is dense layer, with 100 neurons and ReLu activation\n",
    "\n",
    "model.add(keras.layers.Dense(10, activation=\"softmax\"))\n",
    "##5. output layer is defined with num of neurons and activation type\n"
   ]
  },
  {
   "cell_type": "code",
   "execution_count": 53,
   "id": "7dc32b4f",
   "metadata": {},
   "outputs": [
    {
     "name": "stdout",
     "output_type": "stream",
     "text": [
      "Model: \"sequential_1\"\n",
      "_________________________________________________________________\n",
      "Layer (type)                 Output Shape              Param #   \n",
      "=================================================================\n",
      "flatten_1 (Flatten)          (None, 784)               0         \n",
      "_________________________________________________________________\n",
      "dense_3 (Dense)              (None, 300)               235500    \n",
      "_________________________________________________________________\n",
      "dense_4 (Dense)              (None, 100)               30100     \n",
      "_________________________________________________________________\n",
      "dense_5 (Dense)              (None, 10)                1010      \n",
      "=================================================================\n",
      "Total params: 266,610\n",
      "Trainable params: 266,610\n",
      "Non-trainable params: 0\n",
      "_________________________________________________________________\n"
     ]
    }
   ],
   "source": [
    "model.summary()\n",
    "## view the built model\n",
    "## None - since no batch size has been defined for the data.\n",
    "## 235500 - 784*300+300 >> these many trainable parameters are to be optimised\n",
    "##30100 - 300*100  + 100 >> weights and biases are considered  and these many trainable parameters are to be optimised\n",
    "#1010 - these many trainable parameters are to be optimised"
   ]
  },
  {
   "cell_type": "code",
   "execution_count": 54,
   "id": "5a5fbcbd",
   "metadata": {},
   "outputs": [],
   "source": [
    "#!/usr/bin/python3 -m pip install --upgrade pip"
   ]
  },
  {
   "cell_type": "code",
   "execution_count": 55,
   "id": "e28b4eb1",
   "metadata": {},
   "outputs": [],
   "source": [
    "import pydot\n"
   ]
  },
  {
   "cell_type": "code",
   "execution_count": 56,
   "id": "c13714d2",
   "metadata": {},
   "outputs": [
    {
     "data": {
      "image/png": "[encoded data removed]",
      "text/plain": [
       "<IPython.core.display.Image object>"
      ]
     },
     "execution_count": 56,
     "metadata": {},
     "output_type": "execute_result"
    }
   ],
   "source": [
    "keras.utils.plot_model(model)\n",
    "\n",
    "# here (model) is the name of object that contains our ML model"
   ]
  },
  {
   "cell_type": "code",
   "execution_count": 57,
   "id": "97a91f93",
   "metadata": {},
   "outputs": [],
   "source": [
    "weights, biases= model.layers[1].get_weights()\n",
    "#here model again is our object name"
   ]
  },
  {
   "cell_type": "code",
   "execution_count": 58,
   "id": "9ae84e65",
   "metadata": {},
   "outputs": [
    {
     "data": {
      "text/plain": [
       "array([[ 0.02448617, -0.00877795, -0.02189048, ..., -0.02766046,\n",
       "         0.03859074, -0.06889391],\n",
       "       [ 0.00476504, -0.03105379, -0.0586676 , ...,  0.00602964,\n",
       "        -0.02763776, -0.04165364],\n",
       "       [-0.06189284, -0.06901957,  0.07102345, ..., -0.04238207,\n",
       "         0.07121518, -0.07331658],\n",
       "       ...,\n",
       "       [-0.03048757,  0.02155137, -0.05400612, ..., -0.00113463,\n",
       "         0.00228987,  0.05581069],\n",
       "       [ 0.07061854, -0.06960931,  0.07038955, ..., -0.00384101,\n",
       "         0.00034875,  0.02878492],\n",
       "       [-0.06022581,  0.01577859, -0.02585464, ..., -0.00527829,\n",
       "         0.00272203, -0.06793761]], dtype=float32)"
      ]
     },
     "execution_count": 58,
     "metadata": {},
     "output_type": "execute_result"
    }
   ],
   "source": [
    "weights\n",
    "## displays randomly assigned weights"
   ]
  },
  {
   "cell_type": "code",
   "execution_count": 59,
   "id": "13303476",
   "metadata": {},
   "outputs": [
    {
     "data": {
      "text/plain": [
       "(784, 300)"
      ]
     },
     "execution_count": 59,
     "metadata": {},
     "output_type": "execute_result"
    }
   ],
   "source": [
    "weights.shape"
   ]
  },
  {
   "cell_type": "code",
   "execution_count": 60,
   "id": "331c6631",
   "metadata": {},
   "outputs": [
    {
     "data": {
      "text/plain": [
       "array([0., 0., 0., 0., 0., 0., 0., 0., 0., 0., 0., 0., 0., 0., 0., 0., 0.,\n",
       "       0., 0., 0., 0., 0., 0., 0., 0., 0., 0., 0., 0., 0., 0., 0., 0., 0.,\n",
       "       0., 0., 0., 0., 0., 0., 0., 0., 0., 0., 0., 0., 0., 0., 0., 0., 0.,\n",
       "       0., 0., 0., 0., 0., 0., 0., 0., 0., 0., 0., 0., 0., 0., 0., 0., 0.,\n",
       "       0., 0., 0., 0., 0., 0., 0., 0., 0., 0., 0., 0., 0., 0., 0., 0., 0.,\n",
       "       0., 0., 0., 0., 0., 0., 0., 0., 0., 0., 0., 0., 0., 0., 0., 0., 0.,\n",
       "       0., 0., 0., 0., 0., 0., 0., 0., 0., 0., 0., 0., 0., 0., 0., 0., 0.,\n",
       "       0., 0., 0., 0., 0., 0., 0., 0., 0., 0., 0., 0., 0., 0., 0., 0., 0.,\n",
       "       0., 0., 0., 0., 0., 0., 0., 0., 0., 0., 0., 0., 0., 0., 0., 0., 0.,\n",
       "       0., 0., 0., 0., 0., 0., 0., 0., 0., 0., 0., 0., 0., 0., 0., 0., 0.,\n",
       "       0., 0., 0., 0., 0., 0., 0., 0., 0., 0., 0., 0., 0., 0., 0., 0., 0.,\n",
       "       0., 0., 0., 0., 0., 0., 0., 0., 0., 0., 0., 0., 0., 0., 0., 0., 0.,\n",
       "       0., 0., 0., 0., 0., 0., 0., 0., 0., 0., 0., 0., 0., 0., 0., 0., 0.,\n",
       "       0., 0., 0., 0., 0., 0., 0., 0., 0., 0., 0., 0., 0., 0., 0., 0., 0.,\n",
       "       0., 0., 0., 0., 0., 0., 0., 0., 0., 0., 0., 0., 0., 0., 0., 0., 0.,\n",
       "       0., 0., 0., 0., 0., 0., 0., 0., 0., 0., 0., 0., 0., 0., 0., 0., 0.,\n",
       "       0., 0., 0., 0., 0., 0., 0., 0., 0., 0., 0., 0., 0., 0., 0., 0., 0.,\n",
       "       0., 0., 0., 0., 0., 0., 0., 0., 0., 0., 0.], dtype=float32)"
      ]
     },
     "execution_count": 60,
     "metadata": {},
     "output_type": "execute_result"
    }
   ],
   "source": [
    "biases"
   ]
  },
  {
   "cell_type": "code",
   "execution_count": 61,
   "id": "5036ee71",
   "metadata": {},
   "outputs": [
    {
     "data": {
      "text/plain": [
       "(300,)"
      ]
     },
     "execution_count": 61,
     "metadata": {},
     "output_type": "execute_result"
    }
   ],
   "source": [
    "biases.shape"
   ]
  },
  {
   "cell_type": "markdown",
   "id": "5f78d7cb",
   "metadata": {},
   "source": [
    "# Compiling and training the neural network model\n",
    "\n",
    "* Syntax : Model.compile(\n",
    "    optimizer=\"rmsprop\",\n",
    "    loss=None,\n",
    "    metrics=None,\n",
    "    loss_weights=None,\n",
    "    weighted_metrics=None,\n",
    "    run_eagerly=None,\n",
    "    steps_per_execution=None,\n",
    "    **kwargs\n",
    ")\n",
    "## Types of losses :\n",
    "a. Binary classification\n",
    "1. Binary Cross Entropy : cross-entropy loss between the predicted classes and the true classes.\n",
    "\n",
    "b. Multiclass classification\n",
    "\n",
    "1. Categorical Crossentropy\n",
    "The CategoricalCrossentropy also computes the cross-entropy loss between the true classes and predicted classes. The labels are given in an one_hot format. \n",
    "\n",
    "2. Sparse Categorical Crossentropy\n",
    "If you have two or more classes and  the labels are integers, the SparseCategoricalCrossentropy should be used. \n",
    "\n",
    "3. The Poison Loss\n",
    "You can also use the Poisson class to compute the poison loss. It’s a great choice if your dataset comes from a Poisson distribution for example the number of calls a call center receives per hour. \n",
    "\n",
    "4. Kullback-Leibler Divergence Loss\n",
    "The relative entropy can be computed using the KLDivergence class. According to the official docs at PyTorch:\n",
    "\n",
    "KL divergence is a useful distance measure for continuous distributions and is often useful when performing direct regression over the space of (discretely sampled) continuous output distributions. \n",
    "\n",
    "\n"
   ]
  },
  {
   "cell_type": "code",
   "execution_count": 62,
   "id": "91bfbfc8",
   "metadata": {},
   "outputs": [],
   "source": [
    "model.compile(loss=\"sparse_categorical_crossentropy\",optimizer=\"sgd\",metrics=[\"accuracy\"])\n",
    "## we are using this since there are labels in our y(test) variable,\n",
    "### we could use categorical crossentropy if we were using numerical values as y\n",
    "## sgd -->> stochastic gradient descent tells keras to perform back propogation\n",
    "##metric is accuracy for classification, for regression we can use mean square"
   ]
  },
  {
   "cell_type": "code",
   "execution_count": 68,
   "id": "952e9684",
   "metadata": {},
   "outputs": [
    {
     "name": "stderr",
     "output_type": "stream",
     "text": [
      "2021-08-31 14:54:39.263025: W tensorflow/core/framework/cpu_allocator_impl.cc:80] Allocation of 172480000 exceeds 10% of free system memory.\n"
     ]
    },
    {
     "name": "stdout",
     "output_type": "stream",
     "text": [
      "Epoch 1/50\n",
      "1719/1719 [==============================] - 2s 1ms/step - loss: 0.1597 - accuracy: 0.9438 - val_loss: 0.2928 - val_accuracy: 0.8966\n",
      "Epoch 2/50\n",
      "1719/1719 [==============================] - 2s 1000us/step - loss: 0.1580 - accuracy: 0.9437 - val_loss: 0.3011 - val_accuracy: 0.8956\n",
      "Epoch 3/50\n",
      "1719/1719 [==============================] - 2s 1ms/step - loss: 0.1547 - accuracy: 0.9447 - val_loss: 0.3660 - val_accuracy: 0.8746\n",
      "Epoch 4/50\n",
      "1719/1719 [==============================] - 2s 1ms/step - loss: 0.1522 - accuracy: 0.9458 - val_loss: 0.2902 - val_accuracy: 0.8978\n",
      "Epoch 5/50\n",
      "1719/1719 [==============================] - 2s 1ms/step - loss: 0.1510 - accuracy: 0.9457 - val_loss: 0.2846 - val_accuracy: 0.9038\n",
      "Epoch 6/50\n",
      "1719/1719 [==============================] - 2s 1ms/step - loss: 0.1479 - accuracy: 0.9471 - val_loss: 0.3247 - val_accuracy: 0.8924\n",
      "Epoch 7/50\n",
      "1719/1719 [==============================] - 2s 1ms/step - loss: 0.1453 - accuracy: 0.9493 - val_loss: 0.3029 - val_accuracy: 0.9002\n",
      "Epoch 8/50\n",
      "1719/1719 [==============================] - 2s 1ms/step - loss: 0.1428 - accuracy: 0.9509 - val_loss: 0.3196 - val_accuracy: 0.8916\n",
      "Epoch 9/50\n",
      "1719/1719 [==============================] - 2s 1ms/step - loss: 0.1407 - accuracy: 0.9504 - val_loss: 0.2947 - val_accuracy: 0.9012\n",
      "Epoch 10/50\n",
      "1719/1719 [==============================] - 2s 1ms/step - loss: 0.1384 - accuracy: 0.9517 - val_loss: 0.2949 - val_accuracy: 0.9020\n",
      "Epoch 11/50\n",
      "1719/1719 [==============================] - 2s 1ms/step - loss: 0.1371 - accuracy: 0.9512 - val_loss: 0.3022 - val_accuracy: 0.8996\n",
      "Epoch 12/50\n",
      "1719/1719 [==============================] - 2s 1ms/step - loss: 0.1333 - accuracy: 0.9533 - val_loss: 0.3097 - val_accuracy: 0.8976\n",
      "Epoch 13/50\n",
      "1719/1719 [==============================] - 2s 1ms/step - loss: 0.1325 - accuracy: 0.9533 - val_loss: 0.3087 - val_accuracy: 0.8970\n",
      "Epoch 14/50\n",
      "1719/1719 [==============================] - 2s 1ms/step - loss: 0.1296 - accuracy: 0.9543 - val_loss: 0.3264 - val_accuracy: 0.8896\n",
      "Epoch 15/50\n",
      "1719/1719 [==============================] - 2s 1ms/step - loss: 0.1280 - accuracy: 0.9543 - val_loss: 0.3029 - val_accuracy: 0.8996\n",
      "Epoch 16/50\n",
      "1719/1719 [==============================] - 2s 1ms/step - loss: 0.1266 - accuracy: 0.9558 - val_loss: 0.3027 - val_accuracy: 0.8996\n",
      "Epoch 17/50\n",
      "1719/1719 [==============================] - 2s 1ms/step - loss: 0.1238 - accuracy: 0.9560 - val_loss: 0.3380 - val_accuracy: 0.8934\n",
      "Epoch 18/50\n",
      "1719/1719 [==============================] - 2s 1ms/step - loss: 0.1216 - accuracy: 0.9573 - val_loss: 0.3063 - val_accuracy: 0.9016\n",
      "Epoch 19/50\n",
      "1719/1719 [==============================] - 2s 1ms/step - loss: 0.1204 - accuracy: 0.9580 - val_loss: 0.3173 - val_accuracy: 0.9022\n",
      "Epoch 20/50\n",
      "1719/1719 [==============================] - 2s 1ms/step - loss: 0.1174 - accuracy: 0.9596 - val_loss: 0.3235 - val_accuracy: 0.8962\n",
      "Epoch 21/50\n",
      "1719/1719 [==============================] - 2s 1ms/step - loss: 0.1162 - accuracy: 0.9595 - val_loss: 0.3138 - val_accuracy: 0.8994\n",
      "Epoch 22/50\n",
      "1719/1719 [==============================] - 2s 1ms/step - loss: 0.1145 - accuracy: 0.9607 - val_loss: 0.3070 - val_accuracy: 0.9012\n",
      "Epoch 23/50\n",
      "1719/1719 [==============================] - 2s 1ms/step - loss: 0.1125 - accuracy: 0.9609 - val_loss: 0.3143 - val_accuracy: 0.9028\n",
      "Epoch 24/50\n",
      "1719/1719 [==============================] - 2s 1ms/step - loss: 0.1107 - accuracy: 0.9614 - val_loss: 0.3451 - val_accuracy: 0.8954\n",
      "Epoch 25/50\n",
      "1719/1719 [==============================] - 2s 1ms/step - loss: 0.1087 - accuracy: 0.9617 - val_loss: 0.3187 - val_accuracy: 0.9002\n",
      "Epoch 26/50\n",
      "1719/1719 [==============================] - 2s 1ms/step - loss: 0.1077 - accuracy: 0.9621 - val_loss: 0.3244 - val_accuracy: 0.9006\n",
      "Epoch 27/50\n",
      "1719/1719 [==============================] - 2s 1ms/step - loss: 0.1055 - accuracy: 0.9635 - val_loss: 0.3249 - val_accuracy: 0.8988\n",
      "Epoch 28/50\n",
      "1719/1719 [==============================] - 2s 1ms/step - loss: 0.1045 - accuracy: 0.9630 - val_loss: 0.3186 - val_accuracy: 0.9016\n",
      "Epoch 29/50\n",
      "1719/1719 [==============================] - 2s 1ms/step - loss: 0.1025 - accuracy: 0.9644 - val_loss: 0.3451 - val_accuracy: 0.8942\n",
      "Epoch 30/50\n",
      "1719/1719 [==============================] - 2s 1ms/step - loss: 0.1007 - accuracy: 0.9654 - val_loss: 0.3520 - val_accuracy: 0.9010\n",
      "Epoch 31/50\n",
      "1719/1719 [==============================] - 2s 1ms/step - loss: 0.0984 - accuracy: 0.9667 - val_loss: 0.3283 - val_accuracy: 0.8988\n",
      "Epoch 32/50\n",
      "1719/1719 [==============================] - 2s 1ms/step - loss: 0.0975 - accuracy: 0.9660 - val_loss: 0.3326 - val_accuracy: 0.9002\n",
      "Epoch 33/50\n",
      "1719/1719 [==============================] - 2s 1ms/step - loss: 0.0952 - accuracy: 0.9674 - val_loss: 0.3300 - val_accuracy: 0.9002\n",
      "Epoch 34/50\n",
      "1719/1719 [==============================] - 2s 1ms/step - loss: 0.0939 - accuracy: 0.9675 - val_loss: 0.3420 - val_accuracy: 0.8958\n",
      "Epoch 35/50\n",
      "1719/1719 [==============================] - 2s 1ms/step - loss: 0.0907 - accuracy: 0.9688 - val_loss: 0.3449 - val_accuracy: 0.8982\n",
      "Epoch 36/50\n",
      "1719/1719 [==============================] - 2s 1ms/step - loss: 0.0920 - accuracy: 0.9681 - val_loss: 0.3347 - val_accuracy: 0.9024\n",
      "Epoch 37/50\n",
      "1719/1719 [==============================] - 2s 1ms/step - loss: 0.0889 - accuracy: 0.9692 - val_loss: 0.3331 - val_accuracy: 0.9042\n",
      "Epoch 38/50\n",
      "1719/1719 [==============================] - 2s 1ms/step - loss: 0.0862 - accuracy: 0.9714 - val_loss: 0.3286 - val_accuracy: 0.8976\n",
      "Epoch 39/50\n",
      "1719/1719 [==============================] - 2s 1ms/step - loss: 0.0871 - accuracy: 0.9707 - val_loss: 0.3579 - val_accuracy: 0.9022\n",
      "Epoch 40/50\n",
      "1719/1719 [==============================] - 2s 1ms/step - loss: 0.0846 - accuracy: 0.9712 - val_loss: 0.3407 - val_accuracy: 0.9012\n",
      "Epoch 41/50\n",
      "1719/1719 [==============================] - 2s 1ms/step - loss: 0.0847 - accuracy: 0.9709 - val_loss: 0.3403 - val_accuracy: 0.9014\n",
      "Epoch 42/50\n",
      "1719/1719 [==============================] - 2s 1ms/step - loss: 0.0826 - accuracy: 0.9718 - val_loss: 0.3563 - val_accuracy: 0.9030\n",
      "Epoch 43/50\n",
      "1719/1719 [==============================] - 2s 1ms/step - loss: 0.0809 - accuracy: 0.9736 - val_loss: 0.3917 - val_accuracy: 0.8874\n",
      "Epoch 44/50\n",
      "1719/1719 [==============================] - 2s 1ms/step - loss: 0.0782 - accuracy: 0.9737 - val_loss: 0.3622 - val_accuracy: 0.8942\n",
      "Epoch 45/50\n",
      "1719/1719 [==============================] - 2s 1ms/step - loss: 0.0795 - accuracy: 0.9729 - val_loss: 0.3650 - val_accuracy: 0.8970\n",
      "Epoch 46/50\n",
      "1719/1719 [==============================] - 2s 1ms/step - loss: 0.0768 - accuracy: 0.9741 - val_loss: 0.3552 - val_accuracy: 0.8988\n",
      "Epoch 47/50\n",
      "1719/1719 [==============================] - 2s 1ms/step - loss: 0.0747 - accuracy: 0.9744 - val_loss: 0.3601 - val_accuracy: 0.8974\n",
      "Epoch 48/50\n",
      "1719/1719 [==============================] - 2s 1ms/step - loss: 0.0749 - accuracy: 0.9747 - val_loss: 0.4018 - val_accuracy: 0.8878\n",
      "Epoch 49/50\n",
      "1719/1719 [==============================] - 2s 1ms/step - loss: 0.0720 - accuracy: 0.9760 - val_loss: 0.3644 - val_accuracy: 0.8988\n",
      "Epoch 50/50\n",
      "1719/1719 [==============================] - 2s 1ms/step - loss: 0.0707 - accuracy: 0.9761 - val_loss: 0.3606 - val_accuracy: 0.9004\n",
      "Epoch 1/50\n",
      "1719/1719 [==============================] - 2s 1ms/step - loss: 0.0694 - accuracy: 0.9767 - val_loss: 0.3576 - val_accuracy: 0.9006\n",
      "Epoch 2/50\n",
      "1719/1719 [==============================] - 2s 1ms/step - loss: 0.0696 - accuracy: 0.9765 - val_loss: 0.3836 - val_accuracy: 0.8940\n",
      "Epoch 3/50\n",
      "1719/1719 [==============================] - 2s 1ms/step - loss: 0.0672 - accuracy: 0.9780 - val_loss: 0.4266 - val_accuracy: 0.8832\n",
      "Epoch 4/50\n",
      "1719/1719 [==============================] - 2s 1ms/step - loss: 0.0659 - accuracy: 0.9785 - val_loss: 0.3710 - val_accuracy: 0.8994\n",
      "Epoch 5/50\n",
      "1719/1719 [==============================] - 2s 1ms/step - loss: 0.0655 - accuracy: 0.9783 - val_loss: 0.3680 - val_accuracy: 0.9032\n",
      "Epoch 6/50\n",
      "1719/1719 [==============================] - 2s 1ms/step - loss: 0.0642 - accuracy: 0.9792 - val_loss: 0.4329 - val_accuracy: 0.8886\n",
      "Epoch 7/50\n",
      "1719/1719 [==============================] - 2s 1ms/step - loss: 0.0620 - accuracy: 0.9794 - val_loss: 0.3848 - val_accuracy: 0.8992\n",
      "Epoch 8/50\n",
      "1719/1719 [==============================] - 2s 1ms/step - loss: 0.0613 - accuracy: 0.9796 - val_loss: 0.3840 - val_accuracy: 0.8986\n",
      "Epoch 9/50\n",
      "1719/1719 [==============================] - 2s 1ms/step - loss: 0.0614 - accuracy: 0.9798 - val_loss: 0.3706 - val_accuracy: 0.8998\n",
      "Epoch 10/50\n",
      "1719/1719 [==============================] - 2s 1ms/step - loss: 0.0595 - accuracy: 0.9809 - val_loss: 0.3738 - val_accuracy: 0.9014\n",
      "Epoch 11/50\n",
      "1719/1719 [==============================] - 2s 1ms/step - loss: 0.0598 - accuracy: 0.9794 - val_loss: 0.3896 - val_accuracy: 0.8966\n",
      "Epoch 12/50\n",
      "1719/1719 [==============================] - 2s 1ms/step - loss: 0.0573 - accuracy: 0.9818 - val_loss: 0.3976 - val_accuracy: 0.8960\n",
      "Epoch 13/50\n",
      "1719/1719 [==============================] - 2s 1ms/step - loss: 0.0574 - accuracy: 0.9817 - val_loss: 0.3776 - val_accuracy: 0.9008\n",
      "Epoch 14/50\n",
      "1719/1719 [==============================] - 2s 1ms/step - loss: 0.0553 - accuracy: 0.9816 - val_loss: 0.4012 - val_accuracy: 0.8910\n",
      "Epoch 15/50\n",
      "1719/1719 [==============================] - 2s 1ms/step - loss: 0.0535 - accuracy: 0.9825 - val_loss: 0.3871 - val_accuracy: 0.9020\n",
      "Epoch 16/50\n",
      "1719/1719 [==============================] - 2s 1ms/step - loss: 0.0539 - accuracy: 0.9823 - val_loss: 0.3955 - val_accuracy: 0.9014\n",
      "Epoch 17/50\n",
      "1719/1719 [==============================] - 2s 1ms/step - loss: 0.0520 - accuracy: 0.9829 - val_loss: 0.4047 - val_accuracy: 0.9004\n",
      "Epoch 18/50\n",
      "1719/1719 [==============================] - 2s 1ms/step - loss: 0.0500 - accuracy: 0.9840 - val_loss: 0.3978 - val_accuracy: 0.9004\n",
      "Epoch 19/50\n",
      "1719/1719 [==============================] - 2s 1ms/step - loss: 0.0517 - accuracy: 0.9834 - val_loss: 0.4410 - val_accuracy: 0.8950\n",
      "Epoch 20/50\n",
      "1719/1719 [==============================] - 2s 1ms/step - loss: 0.0491 - accuracy: 0.9847 - val_loss: 0.4278 - val_accuracy: 0.8918\n",
      "Epoch 21/50\n",
      "1719/1719 [==============================] - 2s 1ms/step - loss: 0.0499 - accuracy: 0.9834 - val_loss: 0.3970 - val_accuracy: 0.8992\n",
      "Epoch 22/50\n",
      "1719/1719 [==============================] - 2s 1ms/step - loss: 0.0486 - accuracy: 0.9845 - val_loss: 0.4042 - val_accuracy: 0.8958\n",
      "Epoch 23/50\n",
      "1719/1719 [==============================] - 3s 1ms/step - loss: 0.0479 - accuracy: 0.9845 - val_loss: 0.3904 - val_accuracy: 0.9014\n",
      "Epoch 24/50\n",
      "1719/1719 [==============================] - 2s 1ms/step - loss: 0.0460 - accuracy: 0.9853 - val_loss: 0.4596 - val_accuracy: 0.8936\n",
      "Epoch 25/50\n",
      "1719/1719 [==============================] - 2s 1ms/step - loss: 0.0453 - accuracy: 0.9855 - val_loss: 0.4360 - val_accuracy: 0.8998\n",
      "Epoch 26/50\n",
      "1719/1719 [==============================] - 2s 1ms/step - loss: 0.0466 - accuracy: 0.9847 - val_loss: 0.4144 - val_accuracy: 0.8988\n",
      "Epoch 27/50\n",
      "1719/1719 [==============================] - 2s 1ms/step - loss: 0.0451 - accuracy: 0.9854 - val_loss: 0.4178 - val_accuracy: 0.8982\n",
      "Epoch 28/50\n",
      "1719/1719 [==============================] - 2s 1ms/step - loss: 0.0423 - accuracy: 0.9868 - val_loss: 0.4342 - val_accuracy: 0.8944\n",
      "Epoch 29/50\n",
      "1719/1719 [==============================] - 2s 1ms/step - loss: 0.0435 - accuracy: 0.9859 - val_loss: 0.4329 - val_accuracy: 0.8970\n",
      "Epoch 30/50\n",
      "1719/1719 [==============================] - 2s 1ms/step - loss: 0.0437 - accuracy: 0.9856 - val_loss: 0.4566 - val_accuracy: 0.8970\n",
      "Epoch 31/50\n",
      "1719/1719 [==============================] - 2s 1ms/step - loss: 0.0403 - accuracy: 0.9878 - val_loss: 0.4366 - val_accuracy: 0.8946\n",
      "Epoch 32/50\n",
      "1719/1719 [==============================] - 2s 1ms/step - loss: 0.0392 - accuracy: 0.9878 - val_loss: 0.4264 - val_accuracy: 0.9004\n",
      "Epoch 33/50\n",
      "1719/1719 [==============================] - 2s 1ms/step - loss: 0.0409 - accuracy: 0.9868 - val_loss: 0.4197 - val_accuracy: 0.9004\n",
      "Epoch 34/50\n",
      "1719/1719 [==============================] - 2s 1ms/step - loss: 0.0391 - accuracy: 0.9875 - val_loss: 0.4412 - val_accuracy: 0.8980\n",
      "Epoch 35/50\n",
      "1719/1719 [==============================] - 2s 1ms/step - loss: 0.0360 - accuracy: 0.9887 - val_loss: 0.4583 - val_accuracy: 0.8940\n",
      "Epoch 36/50\n",
      "1719/1719 [==============================] - 2s 1ms/step - loss: 0.0368 - accuracy: 0.9885 - val_loss: 0.4329 - val_accuracy: 0.9012\n",
      "Epoch 37/50\n",
      "1719/1719 [==============================] - 2s 1ms/step - loss: 0.0355 - accuracy: 0.9890 - val_loss: 0.4396 - val_accuracy: 0.9004\n",
      "Epoch 38/50\n",
      "1719/1719 [==============================] - 2s 1ms/step - loss: 0.0349 - accuracy: 0.9891 - val_loss: 0.4402 - val_accuracy: 0.8934\n",
      "Epoch 39/50\n",
      "1719/1719 [==============================] - 2s 1ms/step - loss: 0.0351 - accuracy: 0.9893 - val_loss: 0.4641 - val_accuracy: 0.9000\n",
      "Epoch 40/50\n",
      "1719/1719 [==============================] - 2s 1ms/step - loss: 0.0357 - accuracy: 0.9883 - val_loss: 0.4428 - val_accuracy: 0.9014\n",
      "Epoch 41/50\n",
      "1719/1719 [==============================] - 2s 1ms/step - loss: 0.0337 - accuracy: 0.9898 - val_loss: 0.4412 - val_accuracy: 0.8988\n",
      "Epoch 42/50\n",
      "1719/1719 [==============================] - 2s 1ms/step - loss: 0.0317 - accuracy: 0.9902 - val_loss: 0.4504 - val_accuracy: 0.8990\n",
      "Epoch 43/50\n",
      "1719/1719 [==============================] - 2s 1ms/step - loss: 0.0336 - accuracy: 0.9896 - val_loss: 0.4553 - val_accuracy: 0.8976\n",
      "Epoch 44/50\n",
      "1719/1719 [==============================] - 2s 1ms/step - loss: 0.0311 - accuracy: 0.9905 - val_loss: 0.4528 - val_accuracy: 0.8976\n",
      "Epoch 45/50\n",
      "1719/1719 [==============================] - 2s 1ms/step - loss: 0.0310 - accuracy: 0.9905 - val_loss: 0.4695 - val_accuracy: 0.8954\n",
      "Epoch 46/50\n",
      "1719/1719 [==============================] - 2s 1ms/step - loss: 0.0308 - accuracy: 0.9909 - val_loss: 0.4596 - val_accuracy: 0.8980\n",
      "Epoch 47/50\n",
      "1719/1719 [==============================] - 2s 1ms/step - loss: 0.0302 - accuracy: 0.9903 - val_loss: 0.4599 - val_accuracy: 0.9002\n",
      "Epoch 48/50\n",
      "1719/1719 [==============================] - 2s 1ms/step - loss: 0.0296 - accuracy: 0.9912 - val_loss: 0.4755 - val_accuracy: 0.8960\n",
      "Epoch 49/50\n",
      "1719/1719 [==============================] - 2s 1ms/step - loss: 0.0264 - accuracy: 0.9926 - val_loss: 0.4543 - val_accuracy: 0.9000\n",
      "Epoch 50/50\n",
      "1719/1719 [==============================] - 2s 1ms/step - loss: 0.0283 - accuracy: 0.9918 - val_loss: 0.4719 - val_accuracy: 0.8952\n"
     ]
    }
   ],
   "source": [
    "model_history=model.fit(train_images,train_labels,epochs=50,validation_data=(im_val,labels_val))\n",
    "#model_history=model.fit(train_images,train_labels,epochs=50,validation_data=(im_val,labels_val))\n",
    "## use model.fit twice to make the model converge\n",
    "\n"
   ]
  },
  {
   "cell_type": "code",
   "execution_count": 69,
   "id": "415190a9",
   "metadata": {},
   "outputs": [
    {
     "data": {
      "text/plain": [
       "(5000,)"
      ]
     },
     "execution_count": 69,
     "metadata": {},
     "output_type": "execute_result"
    }
   ],
   "source": [
    "labels_val.shape"
   ]
  },
  {
   "cell_type": "code",
   "execution_count": 70,
   "id": "4bf35376",
   "metadata": {},
   "outputs": [
    {
     "data": {
      "text/plain": [
       "{'verbose': 1, 'epochs': 50, 'steps': 1719}"
      ]
     },
     "execution_count": 70,
     "metadata": {},
     "output_type": "execute_result"
    }
   ],
   "source": [
    "model_history.params\n",
    "## to view parameters of our model"
   ]
  },
  {
   "cell_type": "code",
   "execution_count": 71,
   "id": "9f784a50",
   "metadata": {},
   "outputs": [
    {
     "data": {
      "text/plain": [
       "{'loss': [0.06938036531209946,\n",
       "  0.0696454644203186,\n",
       "  0.0672021210193634,\n",
       "  0.06591276824474335,\n",
       "  0.06549196690320969,\n",
       "  0.06422954797744751,\n",
       "  0.06195806711912155,\n",
       "  0.061322279274463654,\n",
       "  0.061419256031513214,\n",
       "  0.059473831206560135,\n",
       "  0.05983419343829155,\n",
       "  0.05732463672757149,\n",
       "  0.057399339973926544,\n",
       "  0.05529778078198433,\n",
       "  0.05354442074894905,\n",
       "  0.053921621292829514,\n",
       "  0.05202711373567581,\n",
       "  0.05001483112573624,\n",
       "  0.05171703174710274,\n",
       "  0.04907221719622612,\n",
       "  0.049901414662599564,\n",
       "  0.04856473207473755,\n",
       "  0.04788648337125778,\n",
       "  0.046016547828912735,\n",
       "  0.04529834911227226,\n",
       "  0.046605560928583145,\n",
       "  0.04506804421544075,\n",
       "  0.042310409247875214,\n",
       "  0.043524324893951416,\n",
       "  0.0436902716755867,\n",
       "  0.040266215801239014,\n",
       "  0.03916410356760025,\n",
       "  0.04090077802538872,\n",
       "  0.03906302899122238,\n",
       "  0.03598550334572792,\n",
       "  0.03681689873337746,\n",
       "  0.03546946868300438,\n",
       "  0.034942541271448135,\n",
       "  0.03505393862724304,\n",
       "  0.03565564379096031,\n",
       "  0.0337408185005188,\n",
       "  0.031739190220832825,\n",
       "  0.03358147293329239,\n",
       "  0.031120888888835907,\n",
       "  0.030993903055787086,\n",
       "  0.030820876359939575,\n",
       "  0.030226968228816986,\n",
       "  0.029645662754774094,\n",
       "  0.026401245966553688,\n",
       "  0.028289305046200752],\n",
       " 'accuracy': [0.9766545295715332,\n",
       "  0.9765090942382812,\n",
       "  0.9779818058013916,\n",
       "  0.9785272479057312,\n",
       "  0.9783454537391663,\n",
       "  0.979163646697998,\n",
       "  0.9793999791145325,\n",
       "  0.9795818328857422,\n",
       "  0.9797636270523071,\n",
       "  0.9808727502822876,\n",
       "  0.979418158531189,\n",
       "  0.9817818403244019,\n",
       "  0.9817273020744324,\n",
       "  0.9816181659698486,\n",
       "  0.9825454354286194,\n",
       "  0.9822909235954285,\n",
       "  0.9828909039497375,\n",
       "  0.9840182065963745,\n",
       "  0.9833999872207642,\n",
       "  0.9847272634506226,\n",
       "  0.9834363460540771,\n",
       "  0.9845454692840576,\n",
       "  0.9844727516174316,\n",
       "  0.9852908849716187,\n",
       "  0.9855090975761414,\n",
       "  0.9846545457839966,\n",
       "  0.9854182004928589,\n",
       "  0.9868181943893433,\n",
       "  0.9859272837638855,\n",
       "  0.9856181740760803,\n",
       "  0.9878363609313965,\n",
       "  0.987781822681427,\n",
       "  0.9867636561393738,\n",
       "  0.9875272512435913,\n",
       "  0.9887090921401978,\n",
       "  0.9885272979736328,\n",
       "  0.9890182018280029,\n",
       "  0.9890909194946289,\n",
       "  0.9892727136611938,\n",
       "  0.9883090853691101,\n",
       "  0.9898181557655334,\n",
       "  0.9901636242866516,\n",
       "  0.989618182182312,\n",
       "  0.9904727339744568,\n",
       "  0.9904545545578003,\n",
       "  0.9908909201622009,\n",
       "  0.9903091192245483,\n",
       "  0.9911817908287048,\n",
       "  0.9926363825798035,\n",
       "  0.9918000102043152],\n",
       " 'val_loss': [0.35762929916381836,\n",
       "  0.383585661649704,\n",
       "  0.42656299471855164,\n",
       "  0.3709516227245331,\n",
       "  0.3679829239845276,\n",
       "  0.43287211656570435,\n",
       "  0.3848455250263214,\n",
       "  0.38395264744758606,\n",
       "  0.370574414730072,\n",
       "  0.3737553656101227,\n",
       "  0.3896389305591583,\n",
       "  0.3975696265697479,\n",
       "  0.3775896728038788,\n",
       "  0.40117159485816956,\n",
       "  0.38710153102874756,\n",
       "  0.3954574167728424,\n",
       "  0.4047120213508606,\n",
       "  0.3977890908718109,\n",
       "  0.4409727454185486,\n",
       "  0.4277716279029846,\n",
       "  0.39695093035697937,\n",
       "  0.404164582490921,\n",
       "  0.39036619663238525,\n",
       "  0.4596092700958252,\n",
       "  0.43597325682640076,\n",
       "  0.41442954540252686,\n",
       "  0.4178162217140198,\n",
       "  0.4341569244861603,\n",
       "  0.4329203963279724,\n",
       "  0.45660462975502014,\n",
       "  0.43660736083984375,\n",
       "  0.42638370394706726,\n",
       "  0.4197019934654236,\n",
       "  0.4412167966365814,\n",
       "  0.4583284258842468,\n",
       "  0.43287602066993713,\n",
       "  0.4396083354949951,\n",
       "  0.44018080830574036,\n",
       "  0.46405550837516785,\n",
       "  0.44282689690589905,\n",
       "  0.4411512613296509,\n",
       "  0.4504455029964447,\n",
       "  0.4552731513977051,\n",
       "  0.45275574922561646,\n",
       "  0.46950745582580566,\n",
       "  0.4596450626850128,\n",
       "  0.45991918444633484,\n",
       "  0.47547000646591187,\n",
       "  0.45427608489990234,\n",
       "  0.4719215929508209],\n",
       " 'val_accuracy': [0.900600016117096,\n",
       "  0.8939999938011169,\n",
       "  0.8831999897956848,\n",
       "  0.899399995803833,\n",
       "  0.9031999707221985,\n",
       "  0.8885999917984009,\n",
       "  0.8992000222206116,\n",
       "  0.8985999822616577,\n",
       "  0.8998000025749207,\n",
       "  0.9014000296592712,\n",
       "  0.8966000080108643,\n",
       "  0.8960000276565552,\n",
       "  0.9007999897003174,\n",
       "  0.890999972820282,\n",
       "  0.9020000100135803,\n",
       "  0.9014000296592712,\n",
       "  0.9003999829292297,\n",
       "  0.9003999829292297,\n",
       "  0.8949999809265137,\n",
       "  0.8917999863624573,\n",
       "  0.8992000222206116,\n",
       "  0.895799994468689,\n",
       "  0.9014000296592712,\n",
       "  0.8935999870300293,\n",
       "  0.8998000025749207,\n",
       "  0.8988000154495239,\n",
       "  0.8981999754905701,\n",
       "  0.8944000005722046,\n",
       "  0.8970000147819519,\n",
       "  0.8970000147819519,\n",
       "  0.894599974155426,\n",
       "  0.9003999829292297,\n",
       "  0.9003999829292297,\n",
       "  0.8980000019073486,\n",
       "  0.8939999938011169,\n",
       "  0.901199996471405,\n",
       "  0.9003999829292297,\n",
       "  0.8934000134468079,\n",
       "  0.8999999761581421,\n",
       "  0.9014000296592712,\n",
       "  0.8988000154495239,\n",
       "  0.8989999890327454,\n",
       "  0.897599995136261,\n",
       "  0.897599995136261,\n",
       "  0.8953999876976013,\n",
       "  0.8980000019073486,\n",
       "  0.9002000093460083,\n",
       "  0.8960000276565552,\n",
       "  0.8999999761581421,\n",
       "  0.8952000141143799]}"
      ]
     },
     "execution_count": 71,
     "metadata": {},
     "output_type": "execute_result"
    }
   ],
   "source": [
    "model_history.history\n",
    "# displays loss, val_accuracy, accuracy and val_loss in a dictionary format(1D) for all 50 epochs"
   ]
  },
  {
   "cell_type": "code",
   "execution_count": 72,
   "id": "88fefa7f",
   "metadata": {},
   "outputs": [
    {
     "data": {
      "image/png": "[encoded data removed]",
      "text/plain": [
       "<Figure size 576x360 with 1 Axes>"
      ]
     },
     "metadata": {
      "needs_background": "light"
     },
     "output_type": "display_data"
    }
   ],
   "source": [
    "import pandas as pd\n",
    "\n",
    "pd.DataFrame(model_history.history).plot(figsize=(8,5))\n",
    "## for plotting graph\n",
    "plt.grid(True)\n",
    "## enables grids\n",
    "plt.gca().set_ylim(0,1)\n",
    "## setting limit for y axis scaled to 1\n",
    "\n",
    "plt.show()\n",
    "\n",
    "## used model.fit twice to make this converge"
   ]
  },
  {
   "cell_type": "code",
   "execution_count": 73,
   "id": "6d7451ed",
   "metadata": {},
   "outputs": [
    {
     "name": "stdout",
     "output_type": "stream",
     "text": [
      "313/313 [==============================] - 0s 881us/step - loss: 0.5252 - accuracy: 0.8893\n"
     ]
    },
    {
     "data": {
      "text/plain": [
       "[0.5252181887626648, 0.8892999887466431]"
      ]
     },
     "execution_count": 73,
     "metadata": {},
     "output_type": "execute_result"
    }
   ],
   "source": [
    "model.evaluate(test_images, test_labels)\n",
    "## 88% accuracy since we did model.fit twice and also cause we used 50 epochs"
   ]
  },
  {
   "cell_type": "markdown",
   "id": "7b152b7b",
   "metadata": {},
   "source": [
    "### Evaluation and checking prediction \n",
    "\n",
    "We will check if our model is able to predict unseen data\n"
   ]
  },
  {
   "cell_type": "code",
   "execution_count": 78,
   "id": "c3d98f9a",
   "metadata": {},
   "outputs": [],
   "source": [
    "unseen_images=test_images[:3]\n",
    "# taking 3 images from our test samples\n",
    "#We will check if our model is able to predict unseen data\n",
    "\n"
   ]
  },
  {
   "cell_type": "code",
   "execution_count": 89,
   "id": "f4c7fc33",
   "metadata": {},
   "outputs": [
    {
     "data": {
      "text/plain": [
       "array([[0., 0., 0., 0., 0., 0., 0., 0., 0., 1.],\n",
       "       [0., 0., 1., 0., 0., 0., 0., 0., 0., 0.],\n",
       "       [0., 1., 0., 0., 0., 0., 0., 0., 0., 0.]], dtype=float32)"
      ]
     },
     "execution_count": 89,
     "metadata": {},
     "output_type": "execute_result"
    }
   ],
   "source": [
    "ulab_prob=model.predict(unseen_images)\n",
    "ulab_prob.round()\n",
    "##round=2 rounds of probabilities to two decimal values\n"
   ]
  },
  {
   "cell_type": "code",
   "execution_count": 91,
   "id": "6deb8a35",
   "metadata": {},
   "outputs": [
    {
     "data": {
      "text/plain": [
       "array([9, 2, 1])"
      ]
     },
     "execution_count": 91,
     "metadata": {},
     "output_type": "execute_result"
    }
   ],
   "source": [
    "\n",
    "predict_class=model.predict(unseen_images) \n",
    "classes_labels=np.argmax(predict_class,axis=1)\n",
    "classes_labels\n",
    "\n",
    "# used instead of predict_classes, here we can see the classes that 3 images belong to\n",
    "\n"
   ]
  },
  {
   "cell_type": "code",
   "execution_count": 93,
   "id": "07566e74",
   "metadata": {},
   "outputs": [
    {
     "data": {
      "text/plain": [
       "array(['Ankle boot', 'Pullover', 'Trouser'], dtype='<U11')"
      ]
     },
     "execution_count": 93,
     "metadata": {},
     "output_type": "execute_result"
    }
   ],
   "source": [
    "np.array(class_name)[classes_labels]\n",
    "# mapping class names to values"
   ]
  },
  {
   "cell_type": "code",
   "execution_count": 97,
   "id": "d22e291f",
   "metadata": {},
   "outputs": [
    {
     "name": "stdout",
     "output_type": "stream",
     "text": [
      "AxesImage(54,36;334.8x217.44)\n"
     ]
    },
    {
     "data": {
      "image/png": "[encoded data removed]",
      "text/plain": [
       "<Figure size 432x288 with 1 Axes>"
      ]
     },
     "metadata": {
      "needs_background": "light"
     },
     "output_type": "display_data"
    }
   ],
   "source": [
    "print(plt.imshow(unseen_images[0]))\n",
    "\n",
    "# cross checking the results"
   ]
  },
  {
   "cell_type": "code",
   "execution_count": 98,
   "id": "83c1eef6",
   "metadata": {},
   "outputs": [
    {
     "name": "stdout",
     "output_type": "stream",
     "text": [
      "AxesImage(54,36;334.8x217.44)\n"
     ]
    },
    {
     "data": {
      "image/png": "[encoded data removed]",
      "text/plain": [
       "<Figure size 432x288 with 1 Axes>"
      ]
     },
     "metadata": {
      "needs_background": "light"
     },
     "output_type": "display_data"
    }
   ],
   "source": [
    "print(plt.imshow(unseen_images[1]))"
   ]
  },
  {
   "cell_type": "code",
   "execution_count": 99,
   "id": "c1c6bf47",
   "metadata": {},
   "outputs": [
    {
     "name": "stdout",
     "output_type": "stream",
     "text": [
      "AxesImage(54,36;334.8x217.44)\n"
     ]
    },
    {
     "data": {
      "image/png": "[encoded data removed]",
      "text/plain": [
       "<Figure size 432x288 with 1 Axes>"
      ]
     },
     "metadata": {
      "needs_background": "light"
     },
     "output_type": "display_data"
    }
   ],
   "source": [
    "print(plt.imshow(unseen_images[2]))"
   ]
  },
  {
   "cell_type": "code",
   "execution_count": null,
   "id": "b6f8cb24",
   "metadata": {},
   "outputs": [],
   "source": []
  }
 ],
 "metadata": {
  "kernelspec": {
   "display_name": "gpu2",
   "language": "python",
   "name": "gpu2"
  },
  "language_info": {
   "codemirror_mode": {
    "name": "ipython",
    "version": 3
   },
   "file_extension": ".py",
   "mimetype": "text/x-python",
   "name": "python",
   "nbconvert_exporter": "python",
   "pygments_lexer": "ipython3",
   "version": "3.9.6"
  }
 },
 "nbformat": 4,
 "nbformat_minor": 5
}
